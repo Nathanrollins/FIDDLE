{
 "cells": [
  {
   "cell_type": "markdown",
   "metadata": {},
   "source": [
    "# Tutorial 1: Classify Species with Keras + Tensorflow"
   ]
  },
  {
   "cell_type": "code",
   "execution_count": 1,
   "metadata": {
    "collapsed": true
   },
   "outputs": [],
   "source": [
    "import numpy as np"
   ]
  },
  {
   "cell_type": "code",
   "execution_count": 2,
   "metadata": {},
   "outputs": [],
   "source": [
    "# We don't need all of the data\n",
    "hg38 = np.load('data/Hsap_Mmus/hg38_1kbp_promoters_100K.npz')['arr_0'][:20000]\n",
    "mm10 = np.load('data/Hsap_Mmus/mm10_1kbp_promoters_32K.npz')['arr_0'][:20000]"
   ]
  },
  {
   "cell_type": "code",
   "execution_count": 3,
   "metadata": {},
   "outputs": [
    {
     "name": "stdout",
     "output_type": "stream",
     "text": [
      "Size of the input tensors: \n",
      " human: (20000, 4, 1000) \n",
      " mouse: (20000, 4, 1000)\n",
      "\n",
      "And this is how it looks:\n",
      "[[ 1.  0.  0.  0.  0.  0.  0.  1.  0.  0.]\n",
      " [ 0.  1.  1.  0.  0.  0.  1.  0.  1.  0.]\n",
      " [ 0.  0.  0.  1.  0.  1.  0.  0.  0.  0.]\n",
      " [ 0.  0.  0.  0.  1.  0.  0.  0.  0.  1.]]\n"
     ]
    }
   ],
   "source": [
    "# It's a good practice to look into the data\n",
    "print('Size of the input tensors: \\n \\\n",
    "human: {} \\n mouse: {}\\n'.format(hg38.shape, mm10.shape))\n",
    "\n",
    "print('And this is how it looks:')\n",
    "print(hg38[0,:,150:160])"
   ]
  },
  {
   "cell_type": "code",
   "execution_count": 4,
   "metadata": {},
   "outputs": [],
   "source": [
    "\n",
    "# Let's create labels for them: 1 means human, 0 means mouse\n",
    "# combine the data\n",
    "labels = np.r_[np.c_[np.ones((hg38.shape[0])),np.zeros((hg38.shape[0]))],\n",
    "               np.c_[np.zeros((mm10.shape[0])), np.ones((mm10.shape[0]))]]\n",
    "input_data = np.r_[hg38, mm10]\n",
    "del hg38, mm10 # we don't need these anymore\n",
    "\n",
    "# shuffle the data and the labels same way\n",
    "idx = np.arange(input_data.shape[0])\n",
    "np.random.shuffle(idx)\n",
    "input_data = input_data[idx, :, :, None]\n",
    "labels = labels[idx]\n"
   ]
  },
  {
   "cell_type": "markdown",
   "metadata": {},
   "source": [
    "### Split your data into 3: Train, Validation and Test"
   ]
  },
  {
   "cell_type": "code",
   "execution_count": 5,
   "metadata": {},
   "outputs": [
    {
     "name": "stdout",
     "output_type": "stream",
     "text": [
      "Train size: 36000\n",
      "Validation size: 1200\n",
      "Test size: 2800\n"
     ]
    }
   ],
   "source": [
    "train_size = int(input_data.shape[0] * 0.9)\n",
    "valid_size = int(input_data.shape[0] * 0.03)\n",
    "\n",
    "X_train = input_data[:train_size]\n",
    "Y_train = labels[:train_size]\n",
    "X_valid = input_data[train_size:(train_size+valid_size)]\n",
    "Y_valid = labels[train_size:(train_size+valid_size)]\n",
    "X_test = input_data[(train_size+valid_size):]\n",
    "Y_test = labels[(train_size+valid_size):]\n",
    "\n",
    "print('Train size: {}\\nValidation size: {}\\nTest size: {}'.format(Y_train.shape[0], Y_valid.shape[0], Y_test.shape[0]))\n",
    "\n",
    "\n",
    "\n"
   ]
  },
  {
   "cell_type": "markdown",
   "metadata": {},
   "source": [
    "## Here's our first model"
   ]
  },
  {
   "cell_type": "code",
   "execution_count": 6,
   "metadata": {},
   "outputs": [
    {
     "name": "stderr",
     "output_type": "stream",
     "text": [
      "Using TensorFlow backend.\n"
     ]
    }
   ],
   "source": [
    "import tensorflow as tf\n",
    "from keras.layers import Conv2D, MaxPooling2D, Flatten, Dropout, Dense\n",
    "from keras.losses import categorical_crossentropy\n",
    "from keras import backend as K"
   ]
  },
  {
   "cell_type": "code",
   "execution_count": 7,
   "metadata": {
    "collapsed": true
   },
   "outputs": [],
   "source": [
    "# Tensorflow creates global variables. Let's clean up before building a new set of variables\n",
    "tf.reset_default_graph()\n"
   ]
  },
  {
   "cell_type": "code",
   "execution_count": 8,
   "metadata": {
    "collapsed": true
   },
   "outputs": [],
   "source": [
    "# Placeholders\n",
    "inp = tf.placeholder(tf.float32, [None, 4, 1000, 1], name='dna_input')\n",
    "target = tf.placeholder(tf.float32, [None, 2], name='label')\n",
    "\n",
    "\n",
    "net = Conv2D(64, [4, 10],\n",
    "                activation='relu',\n",
    "                kernel_regularizer='l2',\n",
    "                padding='valid',\n",
    "                name='conv_1')(inp)\n",
    "net = MaxPooling2D((1, 4), strides=(1, 4))(net)\n",
    "net = Conv2D(16, [1, 10],\n",
    "                activation='relu',\n",
    "                kernel_regularizer='l2',\n",
    "                padding='valid',\n",
    "                name='conv_2')(net)\n",
    "net = MaxPooling2D((1, 4), strides=(1, 4))(net)\n",
    "net = Flatten()(net)\n",
    "net = Dropout(0.5)(net)\n",
    "representation = Dense(50, name='representation')(net)\n",
    "\n",
    "pred = Dense(2, name='prediction', activation='softmax')(representation)\n"
   ]
  },
  {
   "cell_type": "code",
   "execution_count": 9,
   "metadata": {
    "collapsed": true
   },
   "outputs": [],
   "source": [
    "global_step = tf.Variable(0, name = 'globalStep', trainable = False)\n",
    "\n",
    "loss = categorical_crossentropy(pred, target)\n",
    "cost = tf.reduce_mean(loss)\n",
    "optimizer = tf.train.AdamOptimizer(learning_rate=1e-4).minimize(cost, global_step=global_step)"
   ]
  },
  {
   "cell_type": "code",
   "execution_count": 10,
   "metadata": {
    "collapsed": true
   },
   "outputs": [],
   "source": [
    "# Just to keep track of accuracy:\n",
    "\n",
    "# For one single out node, sigmoid activation\n",
    "#accuracy = tf.reduce_mean(tf.cast(tf.equal(tf.greater(pred, 0.5), tf.greater(target, 0.5)), tf.float32))\n",
    "\n",
    "# For two out node, softmax activation\n",
    "accuracy = tf.reduce_mean(tf.cast(tf.equal(tf.argmax(pred, 1), tf.argmax(target, 1)), tf.float32))\n"
   ]
  },
  {
   "cell_type": "code",
   "execution_count": 12,
   "metadata": {},
   "outputs": [],
   "source": [
    "# Now lets look into what variables our tensorflow graph has:\n",
    "# tf.global_variables()"
   ]
  },
  {
   "cell_type": "markdown",
   "metadata": {},
   "source": [
    "## Tensorboard and visualizing the model"
   ]
  },
  {
   "cell_type": "code",
   "execution_count": 13,
   "metadata": {
    "collapsed": true
   },
   "outputs": [],
   "source": [
    "import sys\n",
    "sys.path.append('../FIDDLE/fiddle')\n",
    "from visualization import put_kernels_on_grid"
   ]
  },
  {
   "cell_type": "code",
   "execution_count": 14,
   "metadata": {
    "collapsed": true
   },
   "outputs": [],
   "source": [
    "# create and initiate the session\n",
    "sess = tf.Session()\n",
    "init = tf.global_variables_initializer() \n",
    "sess.run(init)"
   ]
  },
  {
   "cell_type": "code",
   "execution_count": 19,
   "metadata": {},
   "outputs": [
    {
     "name": "stdout",
     "output_type": "stream",
     "text": [
      "grid: 64 = (8, 8)\n"
     ]
    }
   ],
   "source": [
    "run_name = 'LR_1e-4_2'\n",
    "# First convolutional layer weights\n",
    "weights = [v for v in tf.get_collection(tf.GraphKeys.GLOBAL_VARIABLES) \n",
    "           if 'conv_1/kernel:' in v.name]\n",
    "\n",
    "grid = put_kernels_on_grid(weights[0])\n",
    "tf.summary.image('conv1/features', grid)\n",
    "\n",
    "tf.summary.scalar('Total_cost', cost)\n",
    "tf.summary.scalar('Accuracy', accuracy)\n",
    "\n",
    "summary_op = tf.summary.merge_all()\n",
    "summary_writer_train = tf.summary.FileWriter( run_name+'/train', sess.graph)\n",
    "summary_writer_valid = tf.summary.FileWriter( run_name+'/validation', sess.graph)\n",
    "\n"
   ]
  },
  {
   "cell_type": "code",
   "execution_count": 20,
   "metadata": {},
   "outputs": [
    {
     "name": "stdout",
     "output_type": "stream",
     "text": [
      "Accuracy prior to training: 50.8928596973%\n"
     ]
    }
   ],
   "source": [
    "# Let's check how it performs with random weights\n",
    "\n",
    "output, acc = sess.run([pred, accuracy], feed_dict={inp: X_test, target: Y_test, K.learning_phase(): 0})\n",
    "\n",
    "print('Accuracy prior to training: {}%'.format(100*acc))"
   ]
  },
  {
   "cell_type": "code",
   "execution_count": 21,
   "metadata": {
    "collapsed": true
   },
   "outputs": [],
   "source": [
    "def get_batch(X_train, Y_train, batch_size=50):\n",
    "    ix = -batch_size\n",
    "    while True:\n",
    "        if ix>=(X_train.shape[0]-batch_size):\n",
    "            ix = -batch_size\n",
    "        ix+=batch_size\n",
    "        yield  X_train[ix:(ix+batch_size)],  Y_train[ix:(ix+batch_size)]"
   ]
  },
  {
   "cell_type": "code",
   "execution_count": 22,
   "metadata": {
    "scrolled": true
   },
   "outputs": [
    {
     "ename": "KeyboardInterrupt",
     "evalue": "",
     "output_type": "error",
     "traceback": [
      "\u001b[0;31m---------------------------------------------------------------------------\u001b[0m",
      "\u001b[0;31mKeyboardInterrupt\u001b[0m                         Traceback (most recent call last)",
      "\u001b[0;32m<ipython-input-22-aba8647e33d9>\u001b[0m in \u001b[0;36m<module>\u001b[0;34m()\u001b[0m\n\u001b[1;32m     14\u001b[0m         \u001b[0mtotacc\u001b[0m\u001b[0;34m+=\u001b[0m\u001b[0macc\u001b[0m\u001b[0;34m\u001b[0m\u001b[0m\n\u001b[1;32m     15\u001b[0m     lss_test,np_pred, acc_test, validation_summary = sess.run([cost, pred, accuracy, summary_op], feed_dict={inp: X_test,\n\u001b[0;32m---> 16\u001b[0;31m                                                    target: Y_test, K.learning_phase():0})\n\u001b[0m\u001b[1;32m     17\u001b[0m     \u001b[0mstep\u001b[0m\u001b[0;34m+=\u001b[0m\u001b[0;36m1\u001b[0m\u001b[0;34m\u001b[0m\u001b[0m\n\u001b[1;32m     18\u001b[0m     \u001b[0msummary_writer_train\u001b[0m\u001b[0;34m.\u001b[0m\u001b[0madd_summary\u001b[0m\u001b[0;34m(\u001b[0m\u001b[0mtrain_summary\u001b[0m\u001b[0;34m,\u001b[0m \u001b[0mstep\u001b[0m\u001b[0;34m)\u001b[0m\u001b[0;34m\u001b[0m\u001b[0m\n",
      "\u001b[0;32m/Users/umut/dlvenv/lib/python2.7/site-packages/tensorflow/python/client/session.pyc\u001b[0m in \u001b[0;36mrun\u001b[0;34m(self, fetches, feed_dict, options, run_metadata)\u001b[0m\n\u001b[1;32m    787\u001b[0m     \u001b[0;32mtry\u001b[0m\u001b[0;34m:\u001b[0m\u001b[0;34m\u001b[0m\u001b[0m\n\u001b[1;32m    788\u001b[0m       result = self._run(None, fetches, feed_dict, options_ptr,\n\u001b[0;32m--> 789\u001b[0;31m                          run_metadata_ptr)\n\u001b[0m\u001b[1;32m    790\u001b[0m       \u001b[0;32mif\u001b[0m \u001b[0mrun_metadata\u001b[0m\u001b[0;34m:\u001b[0m\u001b[0;34m\u001b[0m\u001b[0m\n\u001b[1;32m    791\u001b[0m         \u001b[0mproto_data\u001b[0m \u001b[0;34m=\u001b[0m \u001b[0mtf_session\u001b[0m\u001b[0;34m.\u001b[0m\u001b[0mTF_GetBuffer\u001b[0m\u001b[0;34m(\u001b[0m\u001b[0mrun_metadata_ptr\u001b[0m\u001b[0;34m)\u001b[0m\u001b[0;34m\u001b[0m\u001b[0m\n",
      "\u001b[0;32m/Users/umut/dlvenv/lib/python2.7/site-packages/tensorflow/python/client/session.pyc\u001b[0m in \u001b[0;36m_run\u001b[0;34m(self, handle, fetches, feed_dict, options, run_metadata)\u001b[0m\n\u001b[1;32m    995\u001b[0m     \u001b[0;32mif\u001b[0m \u001b[0mfinal_fetches\u001b[0m \u001b[0;32mor\u001b[0m \u001b[0mfinal_targets\u001b[0m\u001b[0;34m:\u001b[0m\u001b[0;34m\u001b[0m\u001b[0m\n\u001b[1;32m    996\u001b[0m       results = self._do_run(handle, final_targets, final_fetches,\n\u001b[0;32m--> 997\u001b[0;31m                              feed_dict_string, options, run_metadata)\n\u001b[0m\u001b[1;32m    998\u001b[0m     \u001b[0;32melse\u001b[0m\u001b[0;34m:\u001b[0m\u001b[0;34m\u001b[0m\u001b[0m\n\u001b[1;32m    999\u001b[0m       \u001b[0mresults\u001b[0m \u001b[0;34m=\u001b[0m \u001b[0;34m[\u001b[0m\u001b[0;34m]\u001b[0m\u001b[0;34m\u001b[0m\u001b[0m\n",
      "\u001b[0;32m/Users/umut/dlvenv/lib/python2.7/site-packages/tensorflow/python/client/session.pyc\u001b[0m in \u001b[0;36m_do_run\u001b[0;34m(self, handle, target_list, fetch_list, feed_dict, options, run_metadata)\u001b[0m\n\u001b[1;32m   1130\u001b[0m     \u001b[0;32mif\u001b[0m \u001b[0mhandle\u001b[0m \u001b[0;32mis\u001b[0m \u001b[0mNone\u001b[0m\u001b[0;34m:\u001b[0m\u001b[0;34m\u001b[0m\u001b[0m\n\u001b[1;32m   1131\u001b[0m       return self._do_call(_run_fn, self._session, feed_dict, fetch_list,\n\u001b[0;32m-> 1132\u001b[0;31m                            target_list, options, run_metadata)\n\u001b[0m\u001b[1;32m   1133\u001b[0m     \u001b[0;32melse\u001b[0m\u001b[0;34m:\u001b[0m\u001b[0;34m\u001b[0m\u001b[0m\n\u001b[1;32m   1134\u001b[0m       return self._do_call(_prun_fn, self._session, handle, feed_dict,\n",
      "\u001b[0;32m/Users/umut/dlvenv/lib/python2.7/site-packages/tensorflow/python/client/session.pyc\u001b[0m in \u001b[0;36m_do_call\u001b[0;34m(self, fn, *args)\u001b[0m\n\u001b[1;32m   1137\u001b[0m   \u001b[0;32mdef\u001b[0m \u001b[0m_do_call\u001b[0m\u001b[0;34m(\u001b[0m\u001b[0mself\u001b[0m\u001b[0;34m,\u001b[0m \u001b[0mfn\u001b[0m\u001b[0;34m,\u001b[0m \u001b[0;34m*\u001b[0m\u001b[0margs\u001b[0m\u001b[0;34m)\u001b[0m\u001b[0;34m:\u001b[0m\u001b[0;34m\u001b[0m\u001b[0m\n\u001b[1;32m   1138\u001b[0m     \u001b[0;32mtry\u001b[0m\u001b[0;34m:\u001b[0m\u001b[0;34m\u001b[0m\u001b[0m\n\u001b[0;32m-> 1139\u001b[0;31m       \u001b[0;32mreturn\u001b[0m \u001b[0mfn\u001b[0m\u001b[0;34m(\u001b[0m\u001b[0;34m*\u001b[0m\u001b[0margs\u001b[0m\u001b[0;34m)\u001b[0m\u001b[0;34m\u001b[0m\u001b[0m\n\u001b[0m\u001b[1;32m   1140\u001b[0m     \u001b[0;32mexcept\u001b[0m \u001b[0merrors\u001b[0m\u001b[0;34m.\u001b[0m\u001b[0mOpError\u001b[0m \u001b[0;32mas\u001b[0m \u001b[0me\u001b[0m\u001b[0;34m:\u001b[0m\u001b[0;34m\u001b[0m\u001b[0m\n\u001b[1;32m   1141\u001b[0m       \u001b[0mmessage\u001b[0m \u001b[0;34m=\u001b[0m \u001b[0mcompat\u001b[0m\u001b[0;34m.\u001b[0m\u001b[0mas_text\u001b[0m\u001b[0;34m(\u001b[0m\u001b[0me\u001b[0m\u001b[0;34m.\u001b[0m\u001b[0mmessage\u001b[0m\u001b[0;34m)\u001b[0m\u001b[0;34m\u001b[0m\u001b[0m\n",
      "\u001b[0;32m/Users/umut/dlvenv/lib/python2.7/site-packages/tensorflow/python/client/session.pyc\u001b[0m in \u001b[0;36m_run_fn\u001b[0;34m(session, feed_dict, fetch_list, target_list, options, run_metadata)\u001b[0m\n\u001b[1;32m   1119\u001b[0m         return tf_session.TF_Run(session, options,\n\u001b[1;32m   1120\u001b[0m                                  \u001b[0mfeed_dict\u001b[0m\u001b[0;34m,\u001b[0m \u001b[0mfetch_list\u001b[0m\u001b[0;34m,\u001b[0m \u001b[0mtarget_list\u001b[0m\u001b[0;34m,\u001b[0m\u001b[0;34m\u001b[0m\u001b[0m\n\u001b[0;32m-> 1121\u001b[0;31m                                  status, run_metadata)\n\u001b[0m\u001b[1;32m   1122\u001b[0m \u001b[0;34m\u001b[0m\u001b[0m\n\u001b[1;32m   1123\u001b[0m     \u001b[0;32mdef\u001b[0m \u001b[0m_prun_fn\u001b[0m\u001b[0;34m(\u001b[0m\u001b[0msession\u001b[0m\u001b[0;34m,\u001b[0m \u001b[0mhandle\u001b[0m\u001b[0;34m,\u001b[0m \u001b[0mfeed_dict\u001b[0m\u001b[0;34m,\u001b[0m \u001b[0mfetch_list\u001b[0m\u001b[0;34m)\u001b[0m\u001b[0;34m:\u001b[0m\u001b[0;34m\u001b[0m\u001b[0m\n",
      "\u001b[0;31mKeyboardInterrupt\u001b[0m: "
     ]
    }
   ],
   "source": [
    "batcher = get_batch(X_train, Y_train, 50)\n",
    "episode = 50\n",
    "batch_size = 50\n",
    "step=0\n",
    "for ix in range(500):\n",
    "    totloss = 0\n",
    "    totacc = 0\n",
    "    for it in range(episode):\n",
    "        xt, yt = batcher.next()\n",
    "        _, lss, acc, train_summary = sess.run([optimizer, cost, accuracy, summary_op], \n",
    "                                        feed_dict={inp: xt,\n",
    "                                                   target: yt, K.learning_phase():1})\n",
    "        totloss+=lss\n",
    "        totacc+=acc\n",
    "    lss_test,np_pred, acc_test, validation_summary = sess.run([cost, pred, accuracy, summary_op], feed_dict={inp: X_test,\n",
    "                                                   target: Y_test, K.learning_phase():0})\n",
    "    step+=1\n",
    "    summary_writer_train.add_summary(train_summary, step)\n",
    "    summary_writer_valid.add_summary(validation_summary, step)\n",
    "    summary_writer_train.flush()\n",
    "    summary_writer_valid.flush()\n",
    "#     print('Train:{}\\tAverage loss:{}\\tAverage accuracy:%{}'.format(ix, totloss/episode, 100*totacc/episode))\n",
    "#     print('Validation:{}\\tAverage loss:{}\\tAverage accuracy:%{}'.format(ix, lss_test, 100*acc_test))"
   ]
  },
  {
   "cell_type": "markdown",
   "metadata": {},
   "source": [
    "### Visualize representation"
   ]
  },
  {
   "cell_type": "code",
   "execution_count": 23,
   "metadata": {
    "collapsed": true
   },
   "outputs": [],
   "source": [
    "representations = sess.run(representation, feed_dict={inp: X_test, K.learning_phase():0})"
   ]
  },
  {
   "cell_type": "code",
   "execution_count": 24,
   "metadata": {},
   "outputs": [
    {
     "data": {
      "text/plain": [
       "(2800, 50)"
      ]
     },
     "execution_count": 24,
     "metadata": {},
     "output_type": "execute_result"
    }
   ],
   "source": [
    "representations.shape"
   ]
  },
  {
   "cell_type": "code",
   "execution_count": 25,
   "metadata": {
    "collapsed": true
   },
   "outputs": [],
   "source": [
    "%matplotlib inline\n",
    "from matplotlib import pylab as pl"
   ]
  },
  {
   "cell_type": "code",
   "execution_count": 26,
   "metadata": {},
   "outputs": [],
   "source": [
    "idx = np.argsort(Y_test[:,0])"
   ]
  },
  {
   "cell_type": "code",
   "execution_count": 27,
   "metadata": {},
   "outputs": [
    {
     "data": {
      "text/plain": [
       "<matplotlib.image.AxesImage at 0x143f360d0>"
      ]
     },
     "execution_count": 27,
     "metadata": {},
     "output_type": "execute_result"
    },
    {
     "data": {
      "image/png": "[encoded data removed]",
      "text/plain": [
       "<matplotlib.figure.Figure at 0x143f1b090>"
      ]
     },
     "metadata": {},
     "output_type": "display_data"
    }
   ],
   "source": [
    "pl.imshow(representations[idx], aspect='auto')"
   ]
  },
  {
   "cell_type": "code",
   "execution_count": 28,
   "metadata": {
    "collapsed": true
   },
   "outputs": [],
   "source": [
    "labels = [{1:'human', 0:'mouse'}[ix] for ix in Y_test[:,0]]\n",
    "\n"
   ]
  },
  {
   "cell_type": "code",
   "execution_count": 29,
   "metadata": {
    "collapsed": true
   },
   "outputs": [],
   "source": [
    "import pandas as pd"
   ]
  },
  {
   "cell_type": "code",
   "execution_count": 30,
   "metadata": {
    "collapsed": true
   },
   "outputs": [],
   "source": [
    "pd.DataFrame(representations).to_csv('representations_.tsv', sep='\\t', header=None, index=None)\n",
    "pd.DataFrame(labels).to_csv('representations_labels_.tsv', sep='\\t', header=None, index=None)"
   ]
  },
  {
   "cell_type": "code",
   "execution_count": null,
   "metadata": {
    "collapsed": true
   },
   "outputs": [],
   "source": [
    "## Check with projector"
   ]
  },
  {
   "cell_type": "code",
   "execution_count": null,
   "metadata": {
    "collapsed": true
   },
   "outputs": [],
   "source": []
  }
 ],
 "metadata": {
  "kernelspec": {
   "display_name": "Python 2",
   "language": "python",
   "name": "python2"
  },
  "language_info": {
   "codemirror_mode": {
    "name": "ipython",
    "version": 2
   },
   "file_extension": ".py",
   "mimetype": "text/x-python",
   "name": "python",
   "nbconvert_exporter": "python",
   "pygments_lexer": "ipython2",
   "version": "2.7.10"
  }
 },
 "nbformat": 4,
 "nbformat_minor": 2
}
