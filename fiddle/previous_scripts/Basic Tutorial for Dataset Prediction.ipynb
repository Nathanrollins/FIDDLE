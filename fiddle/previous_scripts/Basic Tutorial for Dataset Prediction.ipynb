{
 "cells": [
  {
   "cell_type": "markdown",
   "metadata": {},
   "source": [
    "## Contents\n",
    "\n",
    "    -Data preperation\n",
    "    -Training the model\n",
    "    -Predicting\n",
    "    -Analyzing the result"
   ]
  },
  {
   "cell_type": "markdown",
   "metadata": {},
   "source": [
    "# Data preparation "
   ]
  },
  {
   "cell_type": "markdown",
   "metadata": {},
   "source": [
    "# Training the model\n",
    "\n",
    "The FIDDLE model expects an hdf5 file, which contains datasets as tracks "
   ]
  },
  {
   "cell_type": "code",
   "execution_count": 2,
   "metadata": {
    "collapsed": false
   },
   "outputs": [
    {
     "name": "stdout",
     "output_type": "stream",
     "text": [
      "Traceback (most recent call last):\r\n",
      "  File \"../TFmodels/main.py\", line 5, in <module>\r\n",
      "    import tensorflow as tf\r\n",
      "  File \"/Users/umut/pyvenv/lib/python2.7/site-packages/tensorflow/__init__.py\", line 23, in <module>\r\n",
      "    from tensorflow.python import *\r\n",
      "  File \"/Users/umut/pyvenv/lib/python2.7/site-packages/tensorflow/python/__init__.py\", line 48, in <module>\r\n",
      "    from tensorflow.python import pywrap_tensorflow\r\n",
      "  File \"/Users/umut/pyvenv/lib/python2.7/site-packages/tensorflow/python/pywrap_tensorflow.py\", line 28, in <module>\r\n",
      "    _pywrap_tensorflow = swig_import_helper()\r\n",
      "  File \"/Users/umut/pyvenv/lib/python2.7/site-packages/tensorflow/python/pywrap_tensorflow.py\", line 24, in swig_import_helper\r\n",
      "    _mod = imp.load_module('_pywrap_tensorflow', fp, pathname, description)\r\n",
      "ImportError: dlopen(/Users/umut/pyvenv/lib/python2.7/site-packages/tensorflow/python/_pywrap_tensorflow.so, 10): Library not loaded: @rpath/libcudart.7.5.dylib\r\n",
      "  Referenced from: /Users/umut/pyvenv/lib/python2.7/site-packages/tensorflow/python/_pywrap_tensorflow.so\r\n",
      "  Reason: image not found\r\n"
     ]
    }
   ],
   "source": [
    "python ../TFmodels/main.py --runName test --testSize 500"
   ]
  },
  {
   "cell_type": "code",
   "execution_count": null,
   "metadata": {
    "collapsed": true
   },
   "outputs": [],
   "source": [
    "hdf5Pointer = h5py.File('../data/hdf5datasets/ScerNSMSDSRSTS.hdf5','r')\n"
   ]
  },
  {
   "cell_type": "code",
   "execution_count": null,
   "metadata": {
    "collapsed": true
   },
   "outputs": [],
   "source": []
  }
 ],
 "metadata": {
  "kernelspec": {
   "display_name": "Python 2",
   "language": "python",
   "name": "python2"
  },
  "language_info": {
   "codemirror_mode": {
    "name": "ipython",
    "version": 2
   },
   "file_extension": ".py",
   "mimetype": "text/x-python",
   "name": "python",
   "nbconvert_exporter": "python",
   "pygments_lexer": "ipython2",
   "version": "2.7.10"
  }
 },
 "nbformat": 4,
 "nbformat_minor": 0
}
