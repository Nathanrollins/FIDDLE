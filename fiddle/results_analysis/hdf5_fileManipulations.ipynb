{
 "cells": [
  {
   "cell_type": "code",
   "execution_count": 1,
   "metadata": {
    "collapsed": true
   },
   "outputs": [],
   "source": [
    "%matplotlib inline\n",
    "from __future__ import absolute_import\n",
    "from __future__ import print_function\n",
    "from __future__ import division\n",
    "from matplotlib import pylab as pl\n",
    "import numpy as np\n",
    "import pandas as pd\n",
    "import seaborn as sns\n",
    "import h5py\n",
    "from matplotlib.backends.backend_pdf import PdfPages\n",
    "from bx.bbi.bigwig_file import BigWigFile\n",
    "import json\n",
    "import os\n",
    "import itertools\n",
    "import numpy as np\n",
    "import six\n",
    "# import bcolz\n",
    "# from pysam import FastaFile\n",
    "# import roman as rm\n",
    "import pandas as pd\n",
    "import pdb\n",
    "import numpy as np\n",
    "import math"
   ]
  },
  {
   "cell_type": "code",
   "execution_count": 2,
   "metadata": {
    "collapsed": false
   },
   "outputs": [
    {
     "name": "stdout",
     "output_type": "stream",
     "text": [
      "\u001b[34mFIDDLE_alpha\u001b[m\u001b[m/                   predictionCheckpoint.ipynb\r\n",
      "\u001b[34mFigures\u001b[m\u001b[m/                        suffnecScores.ipynb\r\n",
      "bigWigFileManipulations.ipynb   testing_generate_regions.ipynb\r\n",
      "\u001b[34mdata\u001b[m\u001b[m/                           \u001b[34mvenv\u001b[m\u001b[m/\r\n",
      "hdf5_fileManipulations.ipynb\r\n"
     ]
    }
   ],
   "source": [
    "ls"
   ]
  },
  {
   "cell_type": "code",
   "execution_count": 27,
   "metadata": {
    "collapsed": true
   },
   "outputs": [],
   "source": [
    "f1 = h5py.File(\"FIDDLE_alpha/data/hdf5datasets/test_march10/validation_test_march10.h5\", \"r\")\n",
    "f2 = h5py.File(\"FIDDLE_alpha/data/hdf5datasets/test_march10/train_test_march10.h5\", \"r\")"
   ]
  },
  {
   "cell_type": "code",
   "execution_count": 28,
   "metadata": {
    "collapsed": false
   },
   "outputs": [
    {
     "data": {
      "text/plain": [
       "[u'DNAseq', u'MNaseseq', u'NETseq', u'RNAseq', u'TSSseq']"
      ]
     },
     "execution_count": 28,
     "metadata": {},
     "output_type": "execute_result"
    }
   ],
   "source": [
    "f2.keys()"
   ]
  },
  {
   "cell_type": "code",
   "execution_count": 33,
   "metadata": {
    "collapsed": false
   },
   "outputs": [
    {
     "data": {
      "text/plain": [
       "0"
      ]
     },
     "execution_count": 33,
     "metadata": {},
     "output_type": "execute_result"
    }
   ],
   "source": [
    "# check for nans, post creation... we're good!\n",
    "test = f2[\"TSSseq\"]\n",
    "array = test.value\n",
    "pd.isnull(array).sum() "
   ]
  },
  {
   "cell_type": "code",
   "execution_count": null,
   "metadata": {
    "collapsed": true
   },
   "outputs": [],
   "source": []
  }
 ],
 "metadata": {
  "kernelspec": {
   "display_name": "Python 2",
   "language": "python",
   "name": "python2"
  },
  "language_info": {
   "codemirror_mode": {
    "name": "ipython",
    "version": 2
   },
   "file_extension": ".py",
   "mimetype": "text/x-python",
   "name": "python",
   "nbconvert_exporter": "python",
   "pygments_lexer": "ipython2",
   "version": "2.7.13"
  }
 },
 "nbformat": 4,
 "nbformat_minor": 2
}
