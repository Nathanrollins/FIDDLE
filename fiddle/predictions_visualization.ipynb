{
 "cells": [
  {
   "cell_type": "markdown",
   "metadata": {},
   "source": [
    "FIDDLE Predictions Visualization Tutorial:\n",
    "==="
   ]
  },
  {
   "cell_type": "markdown",
   "metadata": {},
   "source": [
    "**_This notebook outlines how to create graphs from the data in the output files. The types of graphs depicted in FIDDLE's original bioRxiv paper were created using similar code. It is important to note that if variables are chaged from the suggested names written throughout the steps to then also change their calls later on in step 7._**"
   ]
  },
  {
   "cell_type": "markdown",
   "metadata": {},
   "source": [
    "**Note:** The following python packages are easily installable via pip, e.g:\n",
    "\n",
    "> pip install scipy"
   ]
  },
  {
   "cell_type": "code",
   "execution_count": 1,
   "metadata": {
    "collapsed": true
   },
   "outputs": [],
   "source": [
    "%matplotlib inline\n",
    "from matplotlib import pylab as pl\n",
    "from scipy import stats\n",
    "import numpy as np\n",
    "import pandas as pd\n",
    "import h5py\n",
    "from matplotlib.backends.backend_pdf import PdfPages"
   ]
  },
  {
   "cell_type": "markdown",
   "metadata": {},
   "source": [
    "**1.** Load predictions hdf5 dataset, e.g:\n",
    "\n",
    "> predictions = h5py.File('../results/experiment/predictions.h5','r')"
   ]
  },
  {
   "cell_type": "code",
   "execution_count": 2,
   "metadata": {
    "collapsed": true
   },
   "outputs": [],
   "source": [
    "predictions = h5py.File('../results/17_08_11_test1/predictions.h5','r')"
   ]
  },
  {
   "cell_type": "markdown",
   "metadata": {},
   "source": [
    "**1a.** Examine the predictions hdf5 dataset, the keys correspond to outputs as determined by the parameters in the configurations.json file and the values correspond to the outputs' matrix shape, e.g:\n",
    "\n",
    "> predictions.items()"
   ]
  },
  {
   "cell_type": "code",
   "execution_count": 3,
   "metadata": {},
   "outputs": [
    {
     "data": {
      "text/plain": [
       "[(u'tssseq', <HDF5 dataset \"tssseq\": shape (12900, 500), type \"<f4\">)]"
      ]
     },
     "execution_count": 3,
     "metadata": {},
     "output_type": "execute_result"
    }
   ],
   "source": [
    "predictions.items()"
   ]
  },
  {
   "cell_type": "markdown",
   "metadata": {},
   "source": [
    "**2.** Load original test hdf5 dataset (these are the genomic regions FIDDLE performed its final prediction on), e.g:\n",
    "\n",
    "> test = h5py.File('../data/hdf5datasets/NSMSDSRSCSTSRI_500bp/test.h5', 'r')"
   ]
  },
  {
   "cell_type": "code",
   "execution_count": 5,
   "metadata": {},
   "outputs": [],
   "source": [
    "test = h5py.File('../data/hdf5datasets/NSMSDSRSCSTSRI_500bp/test.h5', 'r')"
   ]
  },
  {
   "cell_type": "markdown",
   "metadata": {},
   "source": [
    "**2a.** Examine the test hdf5 dataset, the keys and values have the same structure as the predictions hdf5dataset, e.g:\n",
    "\n",
    "> test.items()"
   ]
  },
  {
   "cell_type": "code",
   "execution_count": 6,
   "metadata": {},
   "outputs": [
    {
     "data": {
      "text/plain": [
       "[(u'chipseq', <HDF5 dataset \"chipseq\": shape (12900, 2, 500, 1), type \"<f4\">),\n",
       " (u'dnaseq', <HDF5 dataset \"dnaseq\": shape (12900, 4, 500, 1), type \"<f4\">),\n",
       " (u'info', <HDF5 dataset \"info\": shape (12900, 4), type \"<f4\">),\n",
       " (u'mnaseseq',\n",
       "  <HDF5 dataset \"mnaseseq\": shape (12900, 2, 500, 1), type \"<f4\">),\n",
       " (u'netseq', <HDF5 dataset \"netseq\": shape (12900, 2, 500, 1), type \"<f4\">),\n",
       " (u'randinp', <HDF5 dataset \"randinp\": shape (12900, 1, 500, 1), type \"<f4\">),\n",
       " (u'rnaseq', <HDF5 dataset \"rnaseq\": shape (12900, 1, 500, 1), type \"<f4\">),\n",
       " (u'tssseq', <HDF5 dataset \"tssseq\": shape (12900, 2, 500, 1), type \"<f4\">)]"
      ]
     },
     "execution_count": 6,
     "metadata": {},
     "output_type": "execute_result"
    }
   ],
   "source": [
    "test.items()"
   ]
  },
  {
   "cell_type": "markdown",
   "metadata": {},
   "source": [
    "**3.** Read in the 'info' reference track from the test hdf5 dataset, e.g.: \n",
    "\n",
    "> infoRef_test = test.get('info')[:]"
   ]
  },
  {
   "cell_type": "code",
   "execution_count": 7,
   "metadata": {
    "collapsed": true
   },
   "outputs": [],
   "source": [
    "infoRef_test = test.get('info')[:]"
   ]
  },
  {
   "cell_type": "markdown",
   "metadata": {},
   "source": [
    "**3a.** Examine the info reference track, the dimensions correspond to the following, this track is used for correct indexing: \n",
    "\n",
    "    1. Chromosome number (e.g. 1-16)\n",
    "    2. Strandedness (e.g. -1, 1)\n",
    "    3. Gene index (parsed from the original GFF file input)\n",
    "    4. Base Pair index (e.g. up to ~10^6)\n",
    "    \n",
    "> stats.describe(infoRef_test[:, X])"
   ]
  },
  {
   "cell_type": "code",
   "execution_count": 8,
   "metadata": {},
   "outputs": [
    {
     "data": {
      "text/plain": [
       "DescribeResult(nobs=12900, minmax=(1.0, 16.0), mean=9.3024807, variance=20.961603, skewness=-0.12559175491333008, kurtosis=-1.3162881165056144)"
      ]
     },
     "execution_count": 8,
     "metadata": {},
     "output_type": "execute_result"
    },
    {
     "data": {
      "text/plain": [
       "DescribeResult(nobs=12900, minmax=(-1.0, 1.0), mean=0.0, variance=1.0000775, skewness=0.0, kurtosis=-2.0)"
      ]
     },
     "execution_count": 8,
     "metadata": {},
     "output_type": "execute_result"
    },
    {
     "data": {
      "text/plain": [
       "DescribeResult(nobs=12900, minmax=(1.0, 5159.0), mean=2594.1211, variance=2207513.8, skewness=-0.017716964706778526, kurtosis=-1.1933110312711752)"
      ]
     },
     "execution_count": 8,
     "metadata": {},
     "output_type": "execute_result"
    },
    {
     "data": {
      "text/plain": [
       "DescribeResult(nobs=12900, minmax=(2277.0, 1520825.0), mean=458661.19, variance=1.021782e+11, skewness=0.8305436968803406, kurtosis=0.29999693955268336)"
      ]
     },
     "execution_count": 8,
     "metadata": {},
     "output_type": "execute_result"
    }
   ],
   "source": [
    "stats.describe(infoRef_test[:, 0])\n",
    "stats.describe(infoRef_test[:, 1])\n",
    "stats.describe(infoRef_test[:, 2])\n",
    "stats.describe(infoRef_test[:, 3])"
   ]
  },
  {
   "cell_type": "markdown",
   "metadata": {},
   "source": [
    "**4.** Read in one of the sequencing output tracks (for instance 'tssseq' for TSS-Seq data) from the predictions hdf5 datasets. Possible output types were outlined previously in step **2a**. This is the predicted profile that will be plotted, e.g.: \n",
    "\n",
    "> pred_tss = predictions.get('tssseq')[:]"
   ]
  },
  {
   "cell_type": "code",
   "execution_count": 9,
   "metadata": {
    "collapsed": true
   },
   "outputs": [],
   "source": [
    "pred_tss = predictions.get('tssseq')[:]"
   ]
  },
  {
   "cell_type": "markdown",
   "metadata": {},
   "source": [
    "**5.** Correspondingly, read in the sequencing output track from the test hdf5 dataset. This is the original profile that the predicted profile will be plotted against, e.g:\n",
    "\n",
    "> orig_tss = test.get('tssseq')[:]"
   ]
  },
  {
   "cell_type": "code",
   "execution_count": 10,
   "metadata": {
    "collapsed": true
   },
   "outputs": [],
   "source": [
    "orig_tss = test.get('tssseq')[:]"
   ]
  },
  {
   "cell_type": "markdown",
   "metadata": {},
   "source": [
    "**6.** Create directory to save resulting Figure:\n",
    "\n",
    "> ! mkdir ../Figures"
   ]
  },
  {
   "cell_type": "markdown",
   "metadata": {},
   "source": [
    "! mkdir ../Figures"
   ]
  },
  {
   "cell_type": "markdown",
   "metadata": {},
   "source": [
    "**6.** Modify plotting variables according to your liking, such as number of random genomic regions of interest and more:\n",
    "\n",
    "> file_name='../figures/predictions_plot.pdf' # make sure directory exists before carrying through\n",
    "\n",
    "> size_interest=50 # 50 random genomic regions of interest\n",
    "\n",
    "> alpha_orig=0.6 # [0.0, 1.0] - [transparent, opaque], transparency of expected profile from test hdf5 dataset \n",
    "\n",
    "> alpha_pred=0.8 # [0.0, 1.0] - [transparent, opaque], transparency of predicted profile from predictions hdf5 dataset "
   ]
  },
  {
   "cell_type": "code",
   "execution_count": 12,
   "metadata": {
    "collapsed": true
   },
   "outputs": [],
   "source": [
    "file_name='../Figures/predictions_plot.pdf'\n",
    "size_interest=50\n",
    "alpha_orig=0.7\n",
    "alpha_pred=0.9"
   ]
  },
  {
   "cell_type": "markdown",
   "metadata": {},
   "source": [
    "**7.** Create pdf file with plots of overlayed predictions against expected profiles."
   ]
  },
  {
   "cell_type": "code",
   "execution_count": 13,
   "metadata": {
    "collapsed": true
   },
   "outputs": [],
   "source": [
    "pl.ioff()\n",
    "pp = PdfPages(file_name)\n",
    "np.seterr(divide='ignore', invalid='ignore')\n",
    "\n",
    "for ix in np.random.randint(pred_tss.shape[0], size=size_interest):\n",
    "    x_ran = np.arange(ix, ix + 500)\n",
    "    fig = pl.figure();\n",
    "    pl.plot(x_ran, orig_tss[ix, 0] / np.sum(orig_tss[ix, 0]), color='red', alpha=alpha_orig);\n",
    "    pl.plot(x_ran, pred_tss[ix], color='green', alpha=alpha_pred);\n",
    "    \n",
    "    pl.xlabel('Genomic coordinate (bp) - Chr'+ str(int(infoRef_test[ix,0])));\n",
    "    pl.ylabel('Probability density function');    \n",
    "    pp.savefig();\n",
    "    pl.close(fig);\n",
    "    \n",
    "pp.close();"
   ]
  },
  {
   "cell_type": "code",
   "execution_count": null,
   "metadata": {
    "collapsed": true
   },
   "outputs": [],
   "source": []
  }
 ],
 "metadata": {
  "kernelspec": {
   "display_name": "Python 2",
   "language": "python",
   "name": "python2"
  },
  "language_info": {
   "codemirror_mode": {
    "name": "ipython",
    "version": 2
   },
   "file_extension": ".py",
   "mimetype": "text/x-python",
   "name": "python",
   "nbconvert_exporter": "python",
   "pygments_lexer": "ipython2",
   "version": "2.7.13"
  }
 },
 "nbformat": 4,
 "nbformat_minor": 2
}
