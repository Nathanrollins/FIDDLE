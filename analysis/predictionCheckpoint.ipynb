{
 "cells": [
  {
   "cell_type": "code",
   "execution_count": 5,
   "metadata": {
    "collapsed": false
   },
   "outputs": [],
   "source": [
    "%matplotlib inline\n",
    "from matplotlib import pylab as pl\n",
    "import numpy as np\n",
    "import pandas as pd\n",
    "import seaborn as sns\n",
    "import h5py\n",
    "from matplotlib.backends.backend_pdf import PdfPages\n",
    "\n",
    "sns.set_style('white')"
   ]
  },
  {
   "cell_type": "code",
   "execution_count": 6,
   "metadata": {
    "collapsed": false
   },
   "outputs": [],
   "source": [
    "#Get the FIDDLE prediction\n",
    "f = h5py.File('FIDDLE_alpha/results/test/predictions_.hdf5','r')\n",
    "\n",
    "#Get the data used for training\n",
    "f2 = h5py.File('data/NS_MS_DS_RS_CS_TS_generic.hdf5','r')"
   ]
  },
  {
   "cell_type": "code",
   "execution_count": 7,
   "metadata": {
    "collapsed": true
   },
   "outputs": [],
   "source": [
    "#Load the info and predictions tracks (Loading partially is recommended for large file sizes)\n",
    "infodata = f.get('info')[:]\n",
    "predictions = f.get('predictions')[:]\n",
    "\n",
    "# Load the info track as a reference from the data used for training\n",
    "infoRef = f2.get('info')[:]"
   ]
  },
  {
   "cell_type": "code",
   "execution_count": 8,
   "metadata": {
    "collapsed": false
   },
   "outputs": [
    {
     "name": "stdout",
     "output_type": "stream",
     "text": [
      "[(u'info', <HDF5 dataset \"info\": shape (129000, 4), type \"<f4\">), (u'predictions', <HDF5 dataset \"predictions\": shape (129000, 500), type \"<f4\">)]\n"
     ]
    }
   ],
   "source": [
    "print(f.items())"
   ]
  },
  {
   "cell_type": "code",
   "execution_count": 9,
   "metadata": {
    "collapsed": false
   },
   "outputs": [],
   "source": [
    "# I don't know what this is for\n",
    "#\n",
    "# idx = np.zeros((infodata.shape[0]))\n",
    "# for ix in range(infodata.shape[0]):\n",
    "#     tf = (infoRef[:,0]==infodata[ix,0]) & (infoRef[:,1]==infodata[ix,1])& (infoRef[:,2]==infodata[ix,2]) \\\n",
    "#         & (infoRef[:,3]==infodata[ix,3])\n",
    "#     idx[ix]=np.where(tf)[0]"
   ]
  },
  {
   "cell_type": "code",
   "execution_count": 10,
   "metadata": {
    "collapsed": false
   },
   "outputs": [],
   "source": [
    "# assert that the info tensor from prediction and input match to make sure indices align\n",
    "assert (infodata == infoRef).all(), 'info data do not match'"
   ]
  },
  {
   "cell_type": "code",
   "execution_count": 11,
   "metadata": {
    "collapsed": false
   },
   "outputs": [],
   "source": [
    "# extract particular -seq tensor dataset\n",
    "# NETseq = f2.get('NETseq')[:]\n",
    "TSSseq = f2.get('TSSseq')[:]"
   ]
  },
  {
   "cell_type": "code",
   "execution_count": 12,
   "metadata": {
    "collapsed": false
   },
   "outputs": [
    {
     "data": {
      "text/plain": [
       "(129000, 2, 500)"
      ]
     },
     "execution_count": 12,
     "metadata": {},
     "output_type": "execute_result"
    }
   ],
   "source": [
    "TSSseq.shape"
   ]
  },
  {
   "cell_type": "code",
   "execution_count": 19,
   "metadata": {
    "collapsed": true
   },
   "outputs": [],
   "source": [
    "# make directory to store pdf output for next cell\n",
    "# !mkdir -p Figures"
   ]
  },
  {
   "cell_type": "code",
   "execution_count": 23,
   "metadata": {
    "collapsed": false
   },
   "outputs": [],
   "source": [
    "# produces pdf with random inspections of prediction vs input (e.g. TSS prediction output overlayed on TSS input data)\n",
    "pl.ioff()\n",
    "pp = PdfPages('Figures/predictions.pdf')\n",
    "np.seterr(divide='ignore', invalid='ignore')\n",
    "\n",
    "for ix in np.random.randint(infodata.shape[0],size=50):\n",
    "    xran = np.arange(int(infodata[ix,3]),int(infodata[ix,3])+500)\n",
    "    fig = pl.figure()\n",
    "    pl.plot(xran,TSSseq[ix,0]/np.sum(TSSseq[ix,0]));\n",
    "#     pl.plot(xran,-TSSseq[ix,1]/np.sum(TSSseq[ix,1]));\n",
    "    pl.plot(xran,predictions[ix],color='red',alpha=0.8)\n",
    "    pl.xlabel('Genomic coordinate (bp) - Chr'+ str(int(infodata[ix,0])))\n",
    "    pl.ylabel('Probability density function')\n",
    "    pp.savefig()\n",
    "    pl.close(fig)\n",
    "\n",
    "pp.close()"
   ]
  },
  {
   "cell_type": "code",
   "execution_count": 26,
   "metadata": {
    "collapsed": false
   },
   "outputs": [
    {
     "data": {
      "text/plain": [
       "<matplotlib.text.Text at 0x1129c11d0>"
      ]
     },
     "execution_count": 26,
     "metadata": {},
     "output_type": "execute_result"
    },
    {
     "data": {
      "image/png": "[encoded data removed]",
      "text/plain": [
       "<matplotlib.figure.Figure at 0x1130e0710>"
      ]
     },
     "metadata": {},
     "output_type": "display_data"
    }
   ],
   "source": [
    "%matplotlib inline\n",
    "ix=1600\n",
    "xran = np.arange(int(infodata[ix,3]),int(infodata[ix,3])+500)\n",
    "pl.plot(xran,TSSseq[ix,0]/np.sum(TSSseq[ix,0]));\n",
    "# pl.plot(xran,-TSSseq[ix,1]/np.sum(TSSseq[ix,1])); # examines negative strand prediction\n",
    "pl.plot(xran,predictions[ix],color='red',alpha=0.8)\n",
    "pl.xlabel('Genomic coordinate (bp) - Chr'+ str(int(infodata[ix,0])))\n",
    "pl.ylabel('Probability density function')"
   ]
  },
  {
   "cell_type": "code",
   "execution_count": 101,
   "metadata": {
    "collapsed": false
   },
   "outputs": [
    {
     "name": "stdout",
     "output_type": "stream",
     "text": [
      "(129000, 4)\n"
     ]
    }
   ],
   "source": [
    "print(infodata.shape)"
   ]
  },
  {
   "cell_type": "code",
   "execution_count": null,
   "metadata": {
    "collapsed": true
   },
   "outputs": [],
   "source": [
    "######################################################################################################################\n",
    "# beyond this point, idk what's going on\n",
    "######################################################################################################################"
   ]
  },
  {
   "cell_type": "code",
   "execution_count": null,
   "metadata": {
    "collapsed": false
   },
   "outputs": [],
   "source": [
    "TSSdata[0].shape"
   ]
  },
  {
   "cell_type": "code",
   "execution_count": null,
   "metadata": {
    "collapsed": true
   },
   "outputs": [],
   "source": [
    "f.close()\n",
    "f = h5py.File('../results/ds_out_ts_test/predictions.hdf5','r')\n",
    "f2 = h5py.File('../data/hdf5datasets/NSMSDSRSCSTSRI.hdf5','r')"
   ]
  },
  {
   "cell_type": "code",
   "execution_count": null,
   "metadata": {
    "collapsed": true
   },
   "outputs": [],
   "source": [
    "infodata = f.get('info')[:]\n",
    "predictions = f.get('predictions')[:]\n",
    "\n",
    "infoRef = f2.get('info')[:]"
   ]
  },
  {
   "cell_type": "code",
   "execution_count": null,
   "metadata": {
    "collapsed": false
   },
   "outputs": [],
   "source": [
    "idx = np.zeros((infodata.shape[0]))\n",
    "for ix in range(infodata.shape[0]):\n",
    "    \n",
    "    tf_ = (infoRef[:,0]==infodata[ix,0]) & (infoRef[:,1]==infodata[ix,1])& (infoRef[:,2]==infodata[ix,2]) \\\n",
    "        & (infoRef[:,3]==infodata[ix,3])\n",
    "    idx[ix]=np.where(tf_)[0]\n",
    "idx = idx.astype(int)"
   ]
  },
  {
   "cell_type": "code",
   "execution_count": null,
   "metadata": {
    "collapsed": false
   },
   "outputs": [],
   "source": [
    "DNAseq = f2.get('DNAseq')[idx.tolist()]\n",
    "NETseq = f2.get('NETseq')[idx.tolist()]\n",
    "TSSseq = f2.get('TSSseq')[idx.tolist()]\n",
    "ChIPseq = f2.get('ChIPseq')[idx.tolist()]\n",
    "infoRef = infoRef[idx.tolist()]"
   ]
  },
  {
   "cell_type": "code",
   "execution_count": null,
   "metadata": {
    "collapsed": false
   },
   "outputs": [],
   "source": [
    "import sys\n",
    "sys.path.append('/Users/umut/Projects/deeplift/')\n",
    "\n",
    "from deeplift.visualization import viz_sequence\n"
   ]
  },
  {
   "cell_type": "code",
   "execution_count": null,
   "metadata": {
    "collapsed": false
   },
   "outputs": [],
   "source": [
    "viz_sequence.plot_weights(DNAseq[10,:,240:250])"
   ]
  },
  {
   "cell_type": "code",
   "execution_count": null,
   "metadata": {
    "collapsed": false
   },
   "outputs": [],
   "source": [
    "i+=1\n",
    "pl.plot(NETseq[i,0,:])\n",
    "pl.plot(-NETseq[i,1,:])\n",
    "pl.show()\n",
    "pl.plot(TSSseq[i,0,:])\n",
    "pl.plot(-TSSseq[i,1,:])\n",
    "pl.show()\n",
    "pl.plot(ChIPseq[i,0,:])\n",
    "pl.plot(-ChIPseq[i,1,:])\n",
    "pl.show()\n",
    "viz_sequence.plot_weights(DNAseq[i,:,:]*predictions[i,:,:],subticks_frequency=10)"
   ]
  },
  {
   "cell_type": "code",
   "execution_count": null,
   "metadata": {
    "collapsed": false
   },
   "outputs": [],
   "source": [
    "info = np.apply_along_axis(lambda x: -np.log(0.25)+np.sum(x*np.log(x)),1,predictions)\n"
   ]
  },
  {
   "cell_type": "code",
   "execution_count": null,
   "metadata": {
    "collapsed": false
   },
   "outputs": [],
   "source": [
    "pl.plot(info[i]);"
   ]
  },
  {
   "cell_type": "code",
   "execution_count": null,
   "metadata": {
    "collapsed": true
   },
   "outputs": [],
   "source": [
    "i+=1"
   ]
  },
  {
   "cell_type": "markdown",
   "metadata": {},
   "source": [
    "### GERP analysis"
   ]
  },
  {
   "cell_type": "code",
   "execution_count": null,
   "metadata": {
    "collapsed": true
   },
   "outputs": [],
   "source": [
    "import genome.db\n"
   ]
  },
  {
   "cell_type": "code",
   "execution_count": null,
   "metadata": {
    "collapsed": true
   },
   "outputs": [],
   "source": [
    "gdb = genome.db.GenomeDB(path='/Users/umut/Projects/genome/data/share/genome_db',assembly='sacCer3')\n"
   ]
  },
  {
   "cell_type": "code",
   "execution_count": null,
   "metadata": {
    "collapsed": false
   },
   "outputs": [],
   "source": [
    "gdb.list_tracks()"
   ]
  },
  {
   "cell_type": "code",
   "execution_count": null,
   "metadata": {
    "collapsed": true
   },
   "outputs": [],
   "source": [
    "TSpos = gdb.open_track('TSpos')\n",
    "TSneg = gdb.open_track('TSneg')\n",
    "phyloP = gdb.open_track('phyloP')\n"
   ]
  },
  {
   "cell_type": "code",
   "execution_count": null,
   "metadata": {
    "collapsed": true
   },
   "outputs": [],
   "source": []
  },
  {
   "cell_type": "code",
   "execution_count": null,
   "metadata": {
    "collapsed": true
   },
   "outputs": [],
   "source": [
    "sys.path.append('/Users/umut/Projects/ClassifyStrain/')\n"
   ]
  },
  {
   "cell_type": "code",
   "execution_count": null,
   "metadata": {
    "collapsed": true
   },
   "outputs": [],
   "source": [
    "import roman as rm "
   ]
  },
  {
   "cell_type": "code",
   "execution_count": null,
   "metadata": {
    "collapsed": false
   },
   "outputs": [],
   "source": [
    "chname = 'chr'+rm.toRoman(infoRef[i,0])\n",
    "infoRef[i,:]"
   ]
  },
  {
   "cell_type": "code",
   "execution_count": null,
   "metadata": {
    "collapsed": false
   },
   "outputs": [],
   "source": [
    "vec = phyloP.get_nparray(chname,infoRef[i,3]+1,infoRef[i,3]+500)"
   ]
  },
  {
   "cell_type": "code",
   "execution_count": null,
   "metadata": {
    "collapsed": false
   },
   "outputs": [],
   "source": [
    "vec.shape"
   ]
  },
  {
   "cell_type": "code",
   "execution_count": null,
   "metadata": {
    "collapsed": false
   },
   "outputs": [],
   "source": [
    "pl.plot(np.flipud(vec))\n",
    "pl.plot(TSpos.get_nparray(chname,infoRef[i,3]+1,infoRef[i,3]+500))"
   ]
  },
  {
   "cell_type": "code",
   "execution_count": null,
   "metadata": {
    "collapsed": true
   },
   "outputs": [],
   "source": [
    "tmp = (-vec-min(-vec)+0.)/max(-vec-min(-vec))"
   ]
  },
  {
   "cell_type": "code",
   "execution_count": null,
   "metadata": {
    "collapsed": false
   },
   "outputs": [],
   "source": [
    "pl.plot(np.flipud(tmp))"
   ]
  },
  {
   "cell_type": "code",
   "execution_count": null,
   "metadata": {
    "collapsed": false,
    "scrolled": true
   },
   "outputs": [],
   "source": [
    "viz_sequence.plot_weights((info[i,:])*DNAseq[i,:,:],subticks_frequency=10)"
   ]
  },
  {
   "cell_type": "code",
   "execution_count": null,
   "metadata": {
    "collapsed": false
   },
   "outputs": [],
   "source": [
    "viz_sequence.plot_weights(np.exp(tmp)*DNAseq[i,:,:],subticks_frequency=10)"
   ]
  },
  {
   "cell_type": "code",
   "execution_count": null,
   "metadata": {
    "collapsed": false
   },
   "outputs": [],
   "source": [
    "pl.scatter(vec,info[i,:])"
   ]
  },
  {
   "cell_type": "code",
   "execution_count": null,
   "metadata": {
    "collapsed": true
   },
   "outputs": [],
   "source": [
    "fyac = h5py.File('../results/nsmsdsrs_only/predictions_Dhan_yac.hdf5','r')\n",
    "fdhan = h5py.File('../results/nsmsdsrs_only/predictions_Dhan_native_yacregion.hdf5','r')\n",
    "fyacNoDS = h5py.File('../results/nsmsrs_only/predictions_Dhan_yac.hdf5','r')\n",
    "fdhanNoDS = h5py.File('../results/nsmsrs_only/predictions_Dhan_native_yacregion.hdf5','r')\n",
    "\n",
    "# fyacDS = h5py.File('../results/ds_only/predictions_Dhan_yac.hdf5','r')\n",
    "# fdhanDS = h5py.File('../results/ds_only/predictions_Dhan_native_yacregion.hdf5','r')\n",
    "\n",
    "# fyac0 = h5py.File('../data/hdf5datasets/Dhan_yac.hdf5','r')\n",
    "# fdhan0 = h5py.File('../data/hdf5datasets/Dhan_native_yacregion.hdf5','r')"
   ]
  },
  {
   "cell_type": "code",
   "execution_count": null,
   "metadata": {
    "collapsed": true
   },
   "outputs": [],
   "source": [
    "infoYAC = fyac.get('info')[:]\n",
    "predYAC = fyac.get('predictions')[:]\n",
    "\n",
    "infoRef = fyac0.get('info')[:]\n",
    "\n",
    "idx = np.zeros((infoYAC.shape[0]))\n",
    "for ix in range(infoYAC.shape[0]):\n",
    "    \n",
    "    tf_ = (infoRef[:,0]==infoYAC[ix,0]) & (infoRef[:,1]==infoYAC[ix,1])& (infoRef[:,2]==infoYAC[ix,2]) \\\n",
    "        & (infoRef[:,3]==infoYAC[ix,3])\n",
    "    idx[ix]=np.where(tf_)[0]\n",
    "idx = idx.astype(int)"
   ]
  },
  {
   "cell_type": "code",
   "execution_count": null,
   "metadata": {
    "collapsed": true
   },
   "outputs": [],
   "source": [
    "infoYACds = fyacDS.get('info')[:]\n",
    "predYACds = fyacDS.get('predictions')[:]\n",
    "infoYACnods = fyacNoDS.get('info')[:]\n",
    "predYACnods = fyacNoDS.get('predictions')[:]\n",
    "infoNATnods = fdhanNoDS.get('info')[:]\n",
    "predNATnods = fdhanNoDS.get('predictions')[:]\n"
   ]
  },
  {
   "cell_type": "code",
   "execution_count": null,
   "metadata": {
    "collapsed": true
   },
   "outputs": [],
   "source": [
    "infoNAT = fdhan.get('info')[:]\n",
    "predNAT = fdhan.get('predictions')[:]\n",
    "\n",
    "infoRef = fdhan0.get('info')[:]\n",
    "\n",
    "idxN = np.zeros((infoNAT.shape[0]))\n",
    "for ix in range(infoNAT.shape[0]):\n",
    "    \n",
    "    tf_ = (infoRef[:,0]==infoNAT[ix,0]) & (infoRef[:,1]==infoNAT[ix,1])& (infoRef[:,2]==infoNAT[ix,2]) \\\n",
    "        & (infoRef[:,3]==infoNAT[ix,3])\n",
    "    idxN[ix]=np.where(tf_)[0]\n",
    "idxN = idxN.astype(int)"
   ]
  },
  {
   "cell_type": "code",
   "execution_count": null,
   "metadata": {
    "collapsed": true
   },
   "outputs": [],
   "source": [
    "\n",
    "\n",
    "NETseqY = fyac0.get('NETseq')[idx.tolist()]\n",
    "MNaseseqY = fyac0.get('MNaseseq')[idx.tolist()]\n",
    "RNAseqY = fyac0.get('RNAseq')[idx.tolist()]\n"
   ]
  },
  {
   "cell_type": "code",
   "execution_count": null,
   "metadata": {
    "collapsed": true
   },
   "outputs": [],
   "source": [
    "\n",
    "NETseqN = fdhan0.get('NETseq')[idxN.tolist()]\n",
    "MNaseseqN = fdhan0.get('MNaseseq')[idxN.tolist()]\n",
    "RNAseqN = fdhan0.get('RNAseq')[idxN.tolist()]\n"
   ]
  },
  {
   "cell_type": "code",
   "execution_count": null,
   "metadata": {
    "collapsed": false
   },
   "outputs": [],
   "source": [
    "chname =['Deha2C','Deha2D']\n",
    "np.all(infoYAC==infoNAT), np.all(infoYAC==infoYACds) ,np.all(infoYAC==infoYACnods)\n",
    "\n"
   ]
  },
  {
   "cell_type": "code",
   "execution_count": null,
   "metadata": {
    "collapsed": false
   },
   "outputs": [],
   "source": [
    "(infoYAC[:,0]==1)&(infoYAC[:,3]>=1.25710e6)"
   ]
  },
  {
   "cell_type": "code",
   "execution_count": null,
   "metadata": {
    "collapsed": false
   },
   "outputs": [],
   "source": [
    "# i=10301\n",
    "print infoYAC[np.where((infoYAC[:,0]==1)&(infoYAC[:,3]>=1.25710e6))[0][0],:]\n",
    "i=np.where((infoYAC[:,0]==1)&(infoYAC[:,3]>=1.25710e6))[0][0]\n",
    "i"
   ]
  },
  {
   "cell_type": "code",
   "execution_count": null,
   "metadata": {
    "collapsed": false
   },
   "outputs": [],
   "source": [
    "i=2307\n",
    "# i+=100\n",
    "# i+=5\n",
    "# pp = PdfPages('Figures/dhan_vs_YAC_predictions_'+chname[int(infoYAC[i,0])-1]+'_pos'+str(infoYAC[i,3])+'_idx'+str(i)+'.pdf')\n",
    "\n",
    "print infoYAC[i]\n",
    "pl.plot(NETseqY[i,0,:])\n",
    "pl.plot(-NETseqY[i,1,:])\n",
    "# pp.savefig()\n",
    "\n",
    "pl.show()\n",
    "pl.plot(NETseqN[i,0,:])\n",
    "pl.plot(-NETseqN[i,1,:])\n",
    "# pp.savefig()\n",
    "\n",
    "pl.show()\n",
    "pl.plot(RNAseqY[i,0,:])\n",
    "pl.plot(RNAseqN[i,0,:])\n",
    "# pp.savefig()\n",
    "\n",
    "\n",
    "pl.show()\n",
    "pl.plot(predYAC[i,:])\n",
    "pl.plot(predNAT[i,:])\n",
    "# pp.savefig()\n",
    "\n",
    "pl.show()\n",
    "pl.plot(predYACds[i,:])\n",
    "# pp.savefig()\n",
    "\n",
    "pl.show()\n",
    "pl.plot(predYACnods[i,:])\n",
    "pl.plot(predNATnods[i,:])\n",
    "# pp.savefig()\n",
    "# pp.close()\n"
   ]
  },
  {
   "cell_type": "code",
   "execution_count": null,
   "metadata": {
    "collapsed": false
   },
   "outputs": [],
   "source": [
    "deepDates = pd.read_csv('deepDates.txt',header=None)\n",
    "deepDates['year']=deepDates[0].apply(lambda x: x.split('-')[0])"
   ]
  },
  {
   "cell_type": "code",
   "execution_count": null,
   "metadata": {
    "collapsed": false
   },
   "outputs": [],
   "source": [
    "sns.countplot(x='year',data=deepDates)\n",
    "pl.savefig('deepPapers.pdf')"
   ]
  },
  {
   "cell_type": "code",
   "execution_count": null,
   "metadata": {
    "collapsed": false
   },
   "outputs": [],
   "source": [
    "deepDates['year'].value_counts()"
   ]
  },
  {
   "cell_type": "code",
   "execution_count": null,
   "metadata": {
    "collapsed": true
   },
   "outputs": [],
   "source": []
  }
 ],
 "metadata": {
  "kernelspec": {
   "display_name": "Python 2",
   "language": "python",
   "name": "python2"
  },
  "language_info": {
   "codemirror_mode": {
    "name": "ipython",
    "version": 2
   },
   "file_extension": ".py",
   "mimetype": "text/x-python",
   "name": "python",
   "nbconvert_exporter": "python",
   "pygments_lexer": "ipython2",
   "version": "2.7.13"
  }
 },
 "nbformat": 4,
 "nbformat_minor": 0
}
