{
 "cells": [
  {
   "cell_type": "code",
   "execution_count": 1,
   "metadata": {
    "collapsed": false
   },
   "outputs": [],
   "source": [
    "%matplotlib inline\n",
    "from __future__ import absolute_import\n",
    "from __future__ import print_function\n",
    "from __future__ import division\n",
    "from matplotlib import pylab as pl\n",
    "import numpy as np\n",
    "import pandas as pd\n",
    "import seaborn as sns\n",
    "import h5py\n",
    "from matplotlib.backends.backend_pdf import PdfPages\n",
    "from bx.bbi.bigwig_file import BigWigFile\n",
    "import json\n",
    "import os\n",
    "import itertools\n",
    "import numpy as np\n",
    "import six\n",
    "# import bcolz\n",
    "# from pysam import FastaFile\n",
    "# import roman as rm\n",
    "import pandas as pd\n",
    "import pdb\n",
    "import numpy as np\n",
    "import math"
   ]
  },
  {
   "cell_type": "code",
   "execution_count": 25,
   "metadata": {
    "collapsed": false
   },
   "outputs": [],
   "source": [
    "bigwigs = ['FIDDLE_alpha/data/bigwigs/tssseq_1_pos.bw',\n",
    "           'FIDDLE_alpha/data/bigwigs/tssseq_1_neg.bw',\n",
    "           'FIDDLE_alpha/data/bigwigs/tssseq_2_pos.bw',\n",
    "           'FIDDLE_alpha/data/bigwigs/tssseq_2_neg.bw',\n",
    "           'FIDDLE_alpha/data/bigwigs/tssseq_3_pos.bw',\n",
    "           'FIDDLE_alpha/data/bigwigs/tssseq_3_neg.bw',\n",
    "           'FIDDLE_alpha/data/bigwigs/netseq_pos.bw', \n",
    "           'FIDDLE_alpha/data/bigwigs/netseq_neg.bw',\n",
    "           'FIDDLE_alpha/data/bigwigs/mnaseseq_pos.bw',\n",
    "           'FIDDLE_alpha/data/bigwigs/mnaseseq_neg.bw',\n",
    "           'FIDDLE_alpha/data/bigwigs/rnaseq_pos.bw',\n",
    "           'FIDDLE_alpha/data/bigwigs/rnaseq_neg.bw',\n",
    "           'FIDDLE_alpha/data/bigwigs/tfiib_pos.bw',\n",
    "           'FIDDLE_alpha/data/bigwigs/tfiib_neg.bw',]"
   ]
  },
  {
   "cell_type": "code",
   "execution_count": 28,
   "metadata": {
    "collapsed": false
   },
   "outputs": [],
   "source": [
    "with open(u'/Users/marshall/Desktop/fiddle/FIDDLE_alpha/data/sacCer3.chrom.sizes', 'r') as f:\n",
    "    chr_sizes = {line.split('\\t')[0]: (1, int(line.split('\\t')[-1].split('\\n')[0])) for line in f.readlines()}"
   ]
  },
  {
   "cell_type": "code",
   "execution_count": 84,
   "metadata": {
    "collapsed": false
   },
   "outputs": [],
   "source": [
    "# results = summed up positions where NaNs exist\n",
    "bw = [BigWigFile(open(bigwig, 'r')) for bigwig in bigwigs]\n",
    "results = {None : None}\n",
    "\n",
    "for chrom, length in six.iteritems(chr_sizes):\n",
    "    results[chrom] = np.zeros(length[1])\n",
    "\n",
    "for chrom, length in six.iteritems(chr_sizes):\n",
    "    for i in range(len(bw)):\n",
    "        extract_array = bw[i].get_as_array(chrom, 0, length[1])\n",
    "        nan_bool_array = pd.isnull(extract_array)\n",
    "        nan_int_array = 1 * nan_bool_array\n",
    "        results[chrom] += nan_int_array"
   ]
  },
  {
   "cell_type": "code",
   "execution_count": 85,
   "metadata": {
    "collapsed": false
   },
   "outputs": [
    {
     "data": {
      "text/plain": [
       "{None: None,\n",
       " 'chrI': array([  0.,   0.,   0., ...,  11.,  11.,  12.]),\n",
       " 'chrII': array([  6.,   6.,   6., ...,  12.,  12.,  13.]),\n",
       " 'chrIII': array([  6.,   6.,   6., ...,  14.,  14.,  14.]),\n",
       " 'chrIV': array([  6.,   6.,   6., ...,  14.,  14.,  14.]),\n",
       " 'chrIX': array([  6.,   6.,   6., ...,  11.,  12.,  13.]),\n",
       " 'chrM': array([  6.,   6.,   6., ...,  13.,  13.,  13.]),\n",
       " 'chrV': array([  6.,   6.,   6., ...,  14.,  14.,  14.]),\n",
       " 'chrVI': array([  6.,   6.,   6., ...,  11.,  11.,  11.]),\n",
       " 'chrVII': array([  6.,   6.,   6., ...,  14.,  14.,  14.]),\n",
       " 'chrVIII': array([  6.,   6.,   6., ...,  14.,  14.,  14.]),\n",
       " 'chrX': array([  6.,   6.,   6., ...,  14.,  14.,  14.]),\n",
       " 'chrXI': array([  6.,   6.,   6., ...,  11.,  12.,  12.]),\n",
       " 'chrXII': array([  6.,   6.,   6., ...,  14.,  14.,  14.]),\n",
       " 'chrXIII': array([  6.,   6.,   6., ...,  12.,  12.,  13.]),\n",
       " 'chrXIV': array([  6.,   6.,   6., ...,  12.,  12.,  12.]),\n",
       " 'chrXV': array([  6.,   6.,   6., ...,  11.,  11.,  12.]),\n",
       " 'chrXVI': array([  6.,   6.,   6., ...,  14.,  14.,  14.])}"
      ]
     },
     "execution_count": 85,
     "metadata": {},
     "output_type": "execute_result"
    }
   ],
   "source": [
    "results"
   ]
  },
  {
   "cell_type": "code",
   "execution_count": 34,
   "metadata": {
    "collapsed": false
   },
   "outputs": [],
   "source": [
    "inter1 = np.isnan(data)\n",
    "result = inter1.astype(int)\n",
    "print(result[:, 11400:11500])\n",
    "finalR = np.sum(result, axis = 0)\n",
    "print(finalR[11400:11500])\n",
    "finalR.shape\n",
    "# pl.plot(result)"
   ]
  },
  {
   "cell_type": "code",
   "execution_count": 29,
   "metadata": {
    "collapsed": false
   },
   "outputs": [
    {
     "ename": "KeyboardInterrupt",
     "evalue": "",
     "output_type": "error",
     "traceback": [
      "\u001b[0;31m---------------------------------------------------------------------------\u001b[0m",
      "\u001b[0;31mKeyboardInterrupt\u001b[0m                         Traceback (most recent call last)",
      "\u001b[0;32m<ipython-input-29-960126a5adbd>\u001b[0m in \u001b[0;36m<module>\u001b[0;34m()\u001b[0m\n\u001b[1;32m      2\u001b[0m \u001b[0mresults\u001b[0m\u001b[0;34m.\u001b[0m\u001b[0mshape\u001b[0m\u001b[0;34m\u001b[0m\u001b[0m\n\u001b[1;32m      3\u001b[0m \u001b[0;32mfor\u001b[0m \u001b[0mi\u001b[0m \u001b[0;32min\u001b[0m \u001b[0mrange\u001b[0m\u001b[0;34m(\u001b[0m\u001b[0mdata\u001b[0m\u001b[0;34m.\u001b[0m\u001b[0mshape\u001b[0m\u001b[0;34m[\u001b[0m\u001b[0;36m0\u001b[0m\u001b[0;34m]\u001b[0m\u001b[0;34m)\u001b[0m\u001b[0;34m:\u001b[0m\u001b[0;34m\u001b[0m\u001b[0m\n\u001b[0;32m----> 4\u001b[0;31m     \u001b[0;32mfor\u001b[0m \u001b[0mj\u001b[0m \u001b[0;32min\u001b[0m \u001b[0mrange\u001b[0m\u001b[0;34m(\u001b[0m\u001b[0mdata\u001b[0m\u001b[0;34m.\u001b[0m\u001b[0mshape\u001b[0m\u001b[0;34m[\u001b[0m\u001b[0;36m1\u001b[0m\u001b[0;34m]\u001b[0m\u001b[0;34m)\u001b[0m\u001b[0;34m:\u001b[0m\u001b[0;34m\u001b[0m\u001b[0m\n\u001b[0m\u001b[1;32m      5\u001b[0m         \u001b[0;32mif\u001b[0m \u001b[0mnp\u001b[0m\u001b[0;34m.\u001b[0m\u001b[0misnan\u001b[0m\u001b[0;34m(\u001b[0m\u001b[0mdata\u001b[0m\u001b[0;34m[\u001b[0m\u001b[0mi\u001b[0m\u001b[0;34m,\u001b[0m\u001b[0mj\u001b[0m\u001b[0;34m]\u001b[0m\u001b[0;34m)\u001b[0m\u001b[0;34m:\u001b[0m\u001b[0;34m\u001b[0m\u001b[0m\n\u001b[1;32m      6\u001b[0m             \u001b[0mresults\u001b[0m\u001b[0;34m[\u001b[0m\u001b[0mi\u001b[0m\u001b[0;34m,\u001b[0m \u001b[0;36m0\u001b[0m\u001b[0;34m]\u001b[0m \u001b[0;34m+=\u001b[0m \u001b[0;36m1\u001b[0m\u001b[0;34m\u001b[0m\u001b[0m\n",
      "\u001b[0;31mKeyboardInterrupt\u001b[0m: "
     ]
    }
   ],
   "source": [
    "results = np.empty((data.shape[0], 2)) # isNan = 0, notNan = 1\n",
    "results.shape\n",
    "for i in range(data.shape[0]):\n",
    "    for j in range(data.shape[1]):\n",
    "        if np.isnan(data[i,j]):\n",
    "            results[i, 0] += 1\n",
    "        else:\n",
    "            results[i, 1] += 1           "
   ]
  },
  {
   "cell_type": "code",
   "execution_count": null,
   "metadata": {
    "collapsed": false
   },
   "outputs": [],
   "source": [
    "np.divide(results, 813184, results)\n",
    "np.multiply(results, 100, results)\n",
    "np.set_printoptions(precision=2)\n",
    "print(results) # NaN composition as percentage for .bw files"
   ]
  },
  {
   "cell_type": "code",
   "execution_count": null,
   "metadata": {
    "collapsed": true
   },
   "outputs": [],
   "source": []
  }
 ],
 "metadata": {
  "kernelspec": {
   "display_name": "Python 2",
   "language": "python",
   "name": "python2"
  },
  "language_info": {
   "codemirror_mode": {
    "name": "ipython",
    "version": 2
   },
   "file_extension": ".py",
   "mimetype": "text/x-python",
   "name": "python",
   "nbconvert_exporter": "python",
   "pygments_lexer": "ipython2",
   "version": "2.7.13"
  }
 },
 "nbformat": 4,
 "nbformat_minor": 2
}
